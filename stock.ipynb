{
 "cells": [
  {
   "cell_type": "markdown",
   "metadata": {},
   "source": []
  },
  {
   "cell_type": "code",
   "execution_count": 30,
   "metadata": {},
   "outputs": [],
   "source": [
    "import pandas_datareader.data as web\n",
    "import datetime\n",
    "import numpy as np\n",
    "import matplotlib.pyplot as plt\n",
    "import matplotlib.colors as colors\n",
    "import seaborn as sns\n",
    "\n",
    "\n",
    "sns.set_theme()\n"
   ]
  },
  {
   "cell_type": "markdown",
   "metadata": {},
   "source": [
    "Set start and end time. It is one year by default"
   ]
  },
  {
   "cell_type": "code",
   "execution_count": 31,
   "metadata": {},
   "outputs": [],
   "source": [
    "end = datetime.date.today()\n",
    "start = end - datetime.timedelta(365)\n"
   ]
  },
  {
   "cell_type": "code",
   "execution_count": 32,
   "metadata": {},
   "outputs": [],
   "source": [
    "class Stock:\n",
    "    def __init__(self, name, label):\n",
    "        self.name = name\n",
    "        self.label = label\n",
    "        self.stockData = self.getStockData(label)\n",
    "\n",
    "    def getStockData(self, label):\n",
    "        stock = web.DataReader(label, 'yahoo', start, end)[['Close', 'Volume']]\n",
    "        addMAData(stock)\n",
    "        addMAScore(stock)\n",
    "        addPriceScore(stock)\n",
    "        addSumScore(stock)\n",
    "        return stock\n",
    "    "
   ]
  },
  {
   "cell_type": "markdown",
   "metadata": {},
   "source": [
    "function to calculate MA and EMA, Score "
   ]
  },
  {
   "cell_type": "code",
   "execution_count": 33,
   "metadata": {},
   "outputs": [],
   "source": [
    "def caculateEMA(prices, days, smoothing=2):\n",
    "    ema = [sum(prices[:days]) / days]\n",
    "    for price in prices[days:]:\n",
    "        ema.append((price * (smoothing / (1 + days))) +\n",
    "                   ema[-1] * (1 - (smoothing / (1 + days))))\n",
    "    return [None]*(days-1)+ema\n",
    "\n",
    "\n",
    "def caculateMA(prices, days):\n",
    "    return prices.rolling(days).mean()\n",
    "\n",
    "\n",
    "def addMAData(prices_df):\n",
    "    prices_df['MA20'] = caculateMA(prices_df['Close'], 20)\n",
    "    prices_df['MA60'] = caculateMA(prices_df['Close'], 60)\n",
    "    prices_df['MA120'] = caculateMA(prices_df['Close'], 120)\n",
    "    prices_df['EMA20'] = caculateEMA(prices_df['Close'], 20)\n",
    "    prices_df['EMA60'] = caculateEMA(prices_df['Close'], 60)\n",
    "    prices_df['EMA120'] = caculateEMA(prices_df['Close'], 120)\n",
    "\n",
    "\n",
    "def caculateOneDayPriceScore(prices):\n",
    "    score = 0\n",
    "    fullScore = 120\n",
    "    priceToday = prices.iloc[-1]\n",
    "    price20 = prices.iloc[-20]\n",
    "    price60 = prices.iloc[-60]\n",
    "    price120 = prices.iloc[0]\n",
    "    if priceToday['Close'] >= priceToday['EMA120']:\n",
    "        score += 30\n",
    "    if priceToday['Close'] >= priceToday['EMA60']:\n",
    "        score += 20\n",
    "    if priceToday['Close'] >= priceToday['EMA20']:\n",
    "        score += 10\n",
    "    if priceToday['Close'] >= price20['Close']:\n",
    "        score += 30\n",
    "    if priceToday['Close'] >= price60['Close']:\n",
    "        score += 20\n",
    "    if priceToday['Close'] >= price120['Close']:\n",
    "        score += 10\n",
    "    return score*100/fullScore\n",
    "\n",
    "\n",
    "def caculateOneDayMAScore(oneDayPrices):\n",
    "    score = 0\n",
    "    fullScore = 120\n",
    "    if oneDayPrices['EMA20'] > oneDayPrices['EMA120']:\n",
    "        score += 30\n",
    "    if oneDayPrices['MA20'] > oneDayPrices['MA120']:\n",
    "        score += 30\n",
    "    if oneDayPrices['EMA20'] > oneDayPrices['EMA60']:\n",
    "        score += 20\n",
    "    if oneDayPrices['MA20'] > oneDayPrices['MA60']:\n",
    "        score += 20\n",
    "    if oneDayPrices['EMA60'] > oneDayPrices['EMA120']:\n",
    "        score += 10\n",
    "    if oneDayPrices['MA60'] > oneDayPrices['MA120']:\n",
    "        score += 10\n",
    "    return score*100/fullScore\n",
    "\n",
    "\n",
    "def addMAScore(pricesDF):\n",
    "    score = [None] * 119\n",
    "    for i in range(119, len(pricesDF)):\n",
    "        score.append(caculateOneDayMAScore(pricesDF.iloc[i, :]))\n",
    "    pricesDF['MAScore'] = score\n",
    "\n",
    "\n",
    "def addPriceScore(pricesDF):\n",
    "    score = [None]*119\n",
    "    for i in range(120, len(pricesDF)+1):\n",
    "        score.append(caculateOneDayPriceScore(pricesDF.iloc[i-120:i, :]))\n",
    "\n",
    "    pricesDF['PriceScore'] = score\n",
    "\n",
    "\n",
    "def addSumScore(pricesDF):\n",
    "    score = [None]*119\n",
    "    for i in range(119, len(pricesDF)):\n",
    "        score.append(\n",
    "            (pricesDF.iloc[i]['PriceScore']+pricesDF.iloc[i]['MAScore'])/2)\n",
    "\n",
    "    pricesDF['SumScore'] = score\n"
   ]
  },
  {
   "cell_type": "markdown",
   "metadata": {},
   "source": [
    "Plot stock data"
   ]
  },
  {
   "cell_type": "code",
   "execution_count": 34,
   "metadata": {},
   "outputs": [],
   "source": [
    "\n",
    "text_kw = dict(ha=\"center\", va=\"center\", size=20)\n",
    "\n",
    "\n",
    "def plotStock(prices_df):\n",
    "    prices_df['Close'].plot(figsize=(15, 7), label='Close', c='black')\n",
    "    prices_df['MA20'].plot(label='MA20', c='red', linestyle='dashed')\n",
    "    prices_df['EMA20'].plot(label='EMA20', c='red')\n",
    "    prices_df['MA60'].plot(label='MA60', c='orange', linestyle='dashed')\n",
    "    prices_df['EMA60'].plot(label='EMA60', c='orange')\n",
    "    prices_df['MA120'].plot(label='MA120', c='blue', linestyle='dashed')\n",
    "    prices_df['EMA120'].plot(label='EMA120', c='blue')\n",
    "    prices_df['MAScore'].plot(label='MAScore', c='green')\n",
    "    prices_df['PriceScore'].plot(label='PriceScore', c='yellow')\n",
    "    plt.legend()\n",
    "\n",
    "\n",
    "def plotSumScoreHeatMap(scoredf, ax):\n",
    "    score = scoredf['SumScore'].to_numpy().reshape([1, len(scoredf)])\n",
    "    sns.heatmap(score, vmin=0, vmax=100, cmap=\"RdYlGn\", cbar=False, ax=ax, center=60, yticklabels=False,\n",
    "                xticklabels=False,\n",
    "                square=True, annot_kws={'rotation': 90})\n",
    "\n",
    "\n",
    "def plotText(text, ax):\n",
    "    ax.text(0.5, 0.5, text, horizontalalignment='center',\n",
    "            verticalalignment='center', **text_kw)\n",
    "    ax.axis('off')\n"
   ]
  },
  {
   "cell_type": "code",
   "execution_count": 35,
   "metadata": {},
   "outputs": [
    {
     "data": {
      "image/png": "[encoded data removed]",
      "text/plain": "<Figure size 432x288 with 2 Axes>"
     },
     "metadata": {},
     "output_type": "display_data"
    }
   ],
   "source": [
    "\n",
    "stock = Stock('Palantir', 'PLTR')\n",
    "score = stock.stockData['SumScore'].tail(20).to_numpy().reshape([1, 20])\n",
    "f, (a0, a1) = plt.subplots(1, 2, gridspec_kw={'width_ratios': [1, 3]})\n",
    "text_kw = dict(ha=\"center\", va=\"center\", size=20)\n",
    "plotText(stock.name,a0)\n",
    "plotSumScoreHeatMap(stock.stockData.tail(20), a1)\n"
   ]
  },
  {
   "cell_type": "code",
   "execution_count": 38,
   "metadata": {},
   "outputs": [
    {
     "name": "stdout",
     "output_type": "stream",
     "text": [
      "Google\n"
     ]
    },
    {
     "data": {
      "image/png": "[encoded data removed]",
      "text/plain": "<Figure size 432x288 with 8 Axes>"
     },
     "metadata": {},
     "output_type": "display_data"
    }
   ],
   "source": [
    "stockList=[Stock('Google','GOOGL'),Stock('QQQ','QQQ'),Stock('SPY','SPY'),Stock('TSLA','TSLA')]\n",
    "print(stockList[0].name)\n",
    "f,ax = plt.subplots(len(stockList),2,gridspec_kw={'width_ratios': [1, 3]})\n",
    "text_kw = dict(ha=\"center\", va=\"center\", size=20)\n",
    "for i in range(len(stockList)):\n",
    "    plotText(stockList[i].name,ax[i][0])\n",
    "    plotSumScoreHeatMap(stockList[i].stockData.tail(20),ax[i][1])\n"
   ]
  },
  {
   "cell_type": "code",
   "execution_count": null,
   "metadata": {},
   "outputs": [],
   "source": []
  }
 ],
 "metadata": {
  "interpreter": {
   "hash": "1c9d764d6e44edbe9b66923ca6e11d2b3fb77906accf1bd8dcd627c3ef598840"
  },
  "kernelspec": {
   "display_name": "Python 3.9.1  ('.venv': venv)",
   "name": "python3"
  },
  "language_info": {
   "codemirror_mode": {
    "name": "ipython",
    "version": 3
   },
   "file_extension": ".py",
   "mimetype": "text/x-python",
   "name": "python",
   "nbconvert_exporter": "python",
   "pygments_lexer": "ipython3",
   "version": "3.9.1"
  },
  "orig_nbformat": 2
 },
 "nbformat": 4,
 "nbformat_minor": 2
}